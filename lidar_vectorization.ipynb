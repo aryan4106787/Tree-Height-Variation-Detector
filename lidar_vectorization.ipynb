{
 "cells": [
  {
   "cell_type": "markdown",
   "metadata": {},
   "source": [
    "                                                          LiDAR Point Cloud Vectorization"
   ]
  },
  {
   "cell_type": "markdown",
   "metadata": {},
   "source": [
    "LiDAR Point Cloud Vectorization converts raw LiDAR data into structured vector information.\n",
    "\n",
    "It involves processing 3D point cloud data captured by LiDAR sensors.\n",
    "\n",
    "The process includes noise removal, classification, and feature extraction.\n",
    "\n",
    "Algorithms segment and identify objects like buildings, vegetation, and roads.\n",
    "\n",
    "Vectorization transforms point clouds into polygons, lines, and points.\n"
   ]
  },
  {
   "cell_type": "code",
   "execution_count": 9,
   "metadata": {
    "ExecuteTime": {
     "end_time": "2024-02-10T06:23:54.362938100Z",
     "start_time": "2024-02-10T06:23:54.315030200Z"
    }
   },
   "outputs": [
    {
     "name": "stdout",
     "output_type": "stream",
     "text": [
      "2.5.3\n"
     ]
    }
   ],
   "source": [
    "# Base Libraries\n",
    "import numpy as np  # Importing NumPy for numerical operations\n",
    "import matplotlib.pyplot as plt  # Importing Matplotlib for plotting\n",
    "import pandas as pd  # Importing Pandas for data manipulation\n",
    "import tkinter as tk  # Importing Tkinter for GUI components\n",
    "from tkinter import filedialog  # Importing filedialog submodule from Tkinter\n",
    "\n",
    "# 3D Libraries\n",
    "# import open3d as o3d  # Importing Open3D for 3D visualization and processing\n",
    "import laspy  # Importing laspy for reading and writing LAS file format\n",
    "print(laspy.__version__)  # Printing laspy version\n",
    "\n",
    "# Geospatial Libraries\n",
    "import rasterio  # Importing rasterio for reading and writing raster data\n",
    "import alphashape as ash  # Importing alphashape for creating alpha shapes\n",
    "import geopandas as gpd  # Importing geopandas for geospatial data manipulation\n",
    "import shapely as sh  # Importing shapely for geometric operations\n",
    "\n",
    "from rasterio.transform import from_origin  # Importing from_origin from rasterio.transform\n",
    "from rasterio.enums import Resampling  # Importing Resampling enumeration from rasterio.enums\n",
    "from rasterio.features import shapes   # Importing shapes function from rasterio.features\n",
    "from shapely.geometry import Polygon    # Importing Polygon class from shapely.geometry\n",
    "\n"
   ]
  },
  {
   "cell_type": "code",
   "execution_count": 10,
   "metadata": {
    "ExecuteTime": {
     "end_time": "2024-02-10T06:23:54.544954400Z",
     "start_time": "2024-02-10T06:23:54.325481500Z"
    }
   },
   "outputs": [
    {
     "ename": "LaspyException",
     "evalue": "No LazBackend selected, cannot decompress data",
     "output_type": "error",
     "traceback": [
      "\u001B[1;31m---------------------------------------------------------------------------\u001B[0m",
      "\u001B[1;31mLaspyException\u001B[0m                            Traceback (most recent call last)",
      "Cell \u001B[1;32mIn[10], line 1\u001B[0m\n\u001B[1;32m----> 1\u001B[0m las \u001B[38;5;241m=\u001B[39m \u001B[43mlaspy\u001B[49m\u001B[38;5;241;43m.\u001B[39;49m\u001B[43mread\u001B[49m\u001B[43m(\u001B[49m\u001B[38;5;124;43m'\u001B[39;49m\u001B[38;5;124;43mpoints.laz\u001B[39;49m\u001B[38;5;124;43m'\u001B[39;49m\u001B[43m)\u001B[49m\n\u001B[0;32m      3\u001B[0m \u001B[38;5;66;03m# Exploring the classification areas\u001B[39;00m\n\u001B[0;32m      4\u001B[0m \u001B[38;5;28mprint\u001B[39m(np\u001B[38;5;241m.\u001B[39munique(las\u001B[38;5;241m.\u001B[39mclassification))\n",
      "File \u001B[1;32m~\\AppData\\Local\\Programs\\Python\\Python312\\Lib\\site-packages\\laspy\\lib.py:254\u001B[0m, in \u001B[0;36mread_las\u001B[1;34m(source, closefd, laz_backend, decompression_selection)\u001B[0m\n\u001B[0;32m    214\u001B[0m \u001B[38;5;250m\u001B[39m\u001B[38;5;124;03m\"\"\"Entry point for reading las data in laspy\u001B[39;00m\n\u001B[0;32m    215\u001B[0m \n\u001B[0;32m    216\u001B[0m \u001B[38;5;124;03mReads the whole file into memory.\u001B[39;00m\n\u001B[1;32m   (...)\u001B[0m\n\u001B[0;32m    246\u001B[0m \u001B[38;5;124;03m    The ``decompression_selection`` parameter.\u001B[39;00m\n\u001B[0;32m    247\u001B[0m \u001B[38;5;124;03m\"\"\"\u001B[39;00m\n\u001B[0;32m    248\u001B[0m \u001B[38;5;28;01mwith\u001B[39;00m open_las(\n\u001B[0;32m    249\u001B[0m     source,\n\u001B[0;32m    250\u001B[0m     closefd\u001B[38;5;241m=\u001B[39mclosefd,\n\u001B[0;32m    251\u001B[0m     laz_backend\u001B[38;5;241m=\u001B[39mlaz_backend,\n\u001B[0;32m    252\u001B[0m     decompression_selection\u001B[38;5;241m=\u001B[39mdecompression_selection,\n\u001B[0;32m    253\u001B[0m ) \u001B[38;5;28;01mas\u001B[39;00m reader:\n\u001B[1;32m--> 254\u001B[0m     \u001B[38;5;28;01mreturn\u001B[39;00m \u001B[43mreader\u001B[49m\u001B[38;5;241;43m.\u001B[39;49m\u001B[43mread\u001B[49m\u001B[43m(\u001B[49m\u001B[43m)\u001B[49m\n",
      "File \u001B[1;32m~\\AppData\\Local\\Programs\\Python\\Python312\\Lib\\site-packages\\laspy\\lasreader.py:126\u001B[0m, in \u001B[0;36mLasReader.read\u001B[1;34m(self)\u001B[0m\n\u001B[0;32m    119\u001B[0m \u001B[38;5;28;01mdef\u001B[39;00m \u001B[38;5;21mread\u001B[39m(\u001B[38;5;28mself\u001B[39m) \u001B[38;5;241m-\u001B[39m\u001B[38;5;241m>\u001B[39m LasData:\n\u001B[0;32m    120\u001B[0m \u001B[38;5;250m    \u001B[39m\u001B[38;5;124;03m\"\"\"\u001B[39;00m\n\u001B[0;32m    121\u001B[0m \u001B[38;5;124;03m    Reads all the points that are not read and returns a LasData object\u001B[39;00m\n\u001B[0;32m    122\u001B[0m \n\u001B[0;32m    123\u001B[0m \u001B[38;5;124;03m    This will also read EVLRS\u001B[39;00m\n\u001B[0;32m    124\u001B[0m \n\u001B[0;32m    125\u001B[0m \u001B[38;5;124;03m    \"\"\"\u001B[39;00m\n\u001B[1;32m--> 126\u001B[0m     points \u001B[38;5;241m=\u001B[39m \u001B[38;5;28;43mself\u001B[39;49m\u001B[38;5;241;43m.\u001B[39;49m\u001B[43mread_points\u001B[49m\u001B[43m(\u001B[49m\u001B[38;5;241;43m-\u001B[39;49m\u001B[38;5;241;43m1\u001B[39;49m\u001B[43m)\u001B[49m\n\u001B[0;32m    127\u001B[0m     las_data \u001B[38;5;241m=\u001B[39m LasData(header\u001B[38;5;241m=\u001B[39m\u001B[38;5;28mself\u001B[39m\u001B[38;5;241m.\u001B[39mheader, points\u001B[38;5;241m=\u001B[39mpoints)\n\u001B[0;32m    129\u001B[0m     shall_read_evlr \u001B[38;5;241m=\u001B[39m (\n\u001B[0;32m    130\u001B[0m         \u001B[38;5;28mself\u001B[39m\u001B[38;5;241m.\u001B[39mheader\u001B[38;5;241m.\u001B[39mversion\u001B[38;5;241m.\u001B[39mminor \u001B[38;5;241m>\u001B[39m\u001B[38;5;241m=\u001B[39m \u001B[38;5;241m4\u001B[39m\n\u001B[0;32m    131\u001B[0m         \u001B[38;5;129;01mand\u001B[39;00m \u001B[38;5;28mself\u001B[39m\u001B[38;5;241m.\u001B[39mheader\u001B[38;5;241m.\u001B[39mnumber_of_evlrs \u001B[38;5;241m>\u001B[39m \u001B[38;5;241m0\u001B[39m\n\u001B[0;32m    132\u001B[0m         \u001B[38;5;129;01mand\u001B[39;00m \u001B[38;5;28mself\u001B[39m\u001B[38;5;241m.\u001B[39mevlrs \u001B[38;5;129;01mis\u001B[39;00m \u001B[38;5;28;01mNone\u001B[39;00m\n\u001B[0;32m    133\u001B[0m     )\n",
      "File \u001B[1;32m~\\AppData\\Local\\Programs\\Python\\Python312\\Lib\\site-packages\\laspy\\lasreader.py:107\u001B[0m, in \u001B[0;36mLasReader.read_points\u001B[1;34m(self, n)\u001B[0m\n\u001B[0;32m    103\u001B[0m \u001B[38;5;28;01melse\u001B[39;00m:\n\u001B[0;32m    104\u001B[0m     n \u001B[38;5;241m=\u001B[39m \u001B[38;5;28mmin\u001B[39m(n, points_left)\n\u001B[0;32m    106\u001B[0m r \u001B[38;5;241m=\u001B[39m record\u001B[38;5;241m.\u001B[39mPackedPointRecord\u001B[38;5;241m.\u001B[39mfrom_buffer(\n\u001B[1;32m--> 107\u001B[0m     \u001B[38;5;28;43mself\u001B[39;49m\u001B[38;5;241;43m.\u001B[39;49m\u001B[43mpoint_source\u001B[49m\u001B[38;5;241m.\u001B[39mread_n_points(n), \u001B[38;5;28mself\u001B[39m\u001B[38;5;241m.\u001B[39mheader\u001B[38;5;241m.\u001B[39mpoint_format\n\u001B[0;32m    108\u001B[0m )\n\u001B[0;32m    109\u001B[0m \u001B[38;5;28;01mif\u001B[39;00m \u001B[38;5;28mlen\u001B[39m(r) \u001B[38;5;241m<\u001B[39m n:\n\u001B[0;32m    110\u001B[0m     logger\u001B[38;5;241m.\u001B[39merror(\u001B[38;5;124mf\u001B[39m\u001B[38;5;124m\"\u001B[39m\u001B[38;5;124mCould only read \u001B[39m\u001B[38;5;132;01m{\u001B[39;00m\u001B[38;5;28mlen\u001B[39m(r)\u001B[38;5;132;01m}\u001B[39;00m\u001B[38;5;124m of the requested \u001B[39m\u001B[38;5;132;01m{\u001B[39;00mn\u001B[38;5;132;01m}\u001B[39;00m\u001B[38;5;124m points\u001B[39m\u001B[38;5;124m\"\u001B[39m)\n",
      "File \u001B[1;32m~\\AppData\\Local\\Programs\\Python\\Python312\\Lib\\site-packages\\laspy\\lasreader.py:75\u001B[0m, in \u001B[0;36mLasReader.point_source\u001B[1;34m(self)\u001B[0m\n\u001B[0;32m     72\u001B[0m \u001B[38;5;129m@property\u001B[39m\n\u001B[0;32m     73\u001B[0m \u001B[38;5;28;01mdef\u001B[39;00m \u001B[38;5;21mpoint_source\u001B[39m(\u001B[38;5;28mself\u001B[39m) \u001B[38;5;241m-\u001B[39m\u001B[38;5;241m>\u001B[39m \u001B[38;5;124m\"\u001B[39m\u001B[38;5;124mIPointReader\u001B[39m\u001B[38;5;124m\"\u001B[39m:\n\u001B[0;32m     74\u001B[0m     \u001B[38;5;28;01mif\u001B[39;00m \u001B[38;5;28mself\u001B[39m\u001B[38;5;241m.\u001B[39m_point_source \u001B[38;5;129;01mis\u001B[39;00m \u001B[38;5;28;01mNone\u001B[39;00m:\n\u001B[1;32m---> 75\u001B[0m         \u001B[38;5;28mself\u001B[39m\u001B[38;5;241m.\u001B[39m_point_source \u001B[38;5;241m=\u001B[39m \u001B[38;5;28;43mself\u001B[39;49m\u001B[38;5;241;43m.\u001B[39;49m\u001B[43m_create_point_source\u001B[49m\u001B[43m(\u001B[49m\u001B[38;5;28;43mself\u001B[39;49m\u001B[38;5;241;43m.\u001B[39;49m\u001B[43m_source\u001B[49m\u001B[43m)\u001B[49m\n\u001B[0;32m     76\u001B[0m     \u001B[38;5;28;01mreturn\u001B[39;00m \u001B[38;5;28mself\u001B[39m\u001B[38;5;241m.\u001B[39m_point_source\n",
      "File \u001B[1;32m~\\AppData\\Local\\Programs\\Python\\Python312\\Lib\\site-packages\\laspy\\lasreader.py:291\u001B[0m, in \u001B[0;36mLasReader._create_point_source\u001B[1;34m(self, source)\u001B[0m\n\u001B[0;32m    289\u001B[0m \u001B[38;5;28;01mif\u001B[39;00m \u001B[38;5;28mself\u001B[39m\u001B[38;5;241m.\u001B[39mheader\u001B[38;5;241m.\u001B[39mpoint_count \u001B[38;5;241m>\u001B[39m \u001B[38;5;241m0\u001B[39m:\n\u001B[0;32m    290\u001B[0m     \u001B[38;5;28;01mif\u001B[39;00m \u001B[38;5;28mself\u001B[39m\u001B[38;5;241m.\u001B[39mheader\u001B[38;5;241m.\u001B[39mare_points_compressed:\n\u001B[1;32m--> 291\u001B[0m         point_source \u001B[38;5;241m=\u001B[39m \u001B[38;5;28;43mself\u001B[39;49m\u001B[38;5;241;43m.\u001B[39;49m\u001B[43m_create_laz_backend\u001B[49m\u001B[43m(\u001B[49m\u001B[43msource\u001B[49m\u001B[43m)\u001B[49m\n\u001B[0;32m    292\u001B[0m         \u001B[38;5;28;01mif\u001B[39;00m point_source \u001B[38;5;129;01mis\u001B[39;00m \u001B[38;5;28;01mNone\u001B[39;00m:\n\u001B[0;32m    293\u001B[0m             \u001B[38;5;28;01mraise\u001B[39;00m errors\u001B[38;5;241m.\u001B[39mLaspyException(\n\u001B[0;32m    294\u001B[0m                 \u001B[38;5;124m\"\u001B[39m\u001B[38;5;124mData is compressed, but no LazBacked could be initialized\u001B[39m\u001B[38;5;124m\"\u001B[39m\n\u001B[0;32m    295\u001B[0m             )\n",
      "File \u001B[1;32m~\\AppData\\Local\\Programs\\Python\\Python312\\Lib\\site-packages\\laspy\\lasreader.py:259\u001B[0m, in \u001B[0;36mLasReader._create_laz_backend\u001B[1;34m(self, source)\u001B[0m\n\u001B[0;32m    251\u001B[0m \u001B[38;5;250m\u001B[39m\u001B[38;5;124;03m\"\"\"Creates the laz backend to use according to `self.laz_backend`.\u001B[39;00m\n\u001B[0;32m    252\u001B[0m \n\u001B[0;32m    253\u001B[0m \u001B[38;5;124;03mIf `self.laz_backend` contains mutilple backends, this functions will\u001B[39;00m\n\u001B[1;32m   (...)\u001B[0m\n\u001B[0;32m    256\u001B[0m \u001B[38;5;124;03mIf none could be constructed, the error of the last backend tried wil be raised\u001B[39;00m\n\u001B[0;32m    257\u001B[0m \u001B[38;5;124;03m\"\"\"\u001B[39;00m\n\u001B[0;32m    258\u001B[0m \u001B[38;5;28;01mif\u001B[39;00m \u001B[38;5;129;01mnot\u001B[39;00m \u001B[38;5;28mself\u001B[39m\u001B[38;5;241m.\u001B[39mlaz_backend:\n\u001B[1;32m--> 259\u001B[0m     \u001B[38;5;28;01mraise\u001B[39;00m errors\u001B[38;5;241m.\u001B[39mLaspyException(\n\u001B[0;32m    260\u001B[0m         \u001B[38;5;124m\"\u001B[39m\u001B[38;5;124mNo LazBackend selected, cannot decompress data\u001B[39m\u001B[38;5;124m\"\u001B[39m\n\u001B[0;32m    261\u001B[0m     )\n\u001B[0;32m    263\u001B[0m \u001B[38;5;28;01mtry\u001B[39;00m:\n\u001B[0;32m    264\u001B[0m     backends \u001B[38;5;241m=\u001B[39m \u001B[38;5;28miter\u001B[39m(\u001B[38;5;28mself\u001B[39m\u001B[38;5;241m.\u001B[39mlaz_backend)\n",
      "\u001B[1;31mLaspyException\u001B[0m: No LazBackend selected, cannot decompress data"
     ]
    }
   ],
   "source": [
    "las = laspy.read('points.laz')\n",
    "\n",
    "# Exploring the classification areas\n",
    "print(np.unique(las.classification))\n",
    "\n",
    "# Print dimensions' names\n",
    "print([dimension.name for dimension in las.point_format.dimensions])\n",
    "\n",
    "# Check available attributes for the VLR object\n",
    "vlr_attributes = dir(las.vlrs[2])\n",
    "\n",
    "# Print available attributes for the VLR object\n",
    "print(\"VLR Attributes:\", vlr_attributes)\n",
    "\n",
    "# Use the correct attribute based on your requirements\n",
    "# For example, if you want to get the raw data as a string, you might use:\n",
    "if 'raw_data' in vlr_attributes:\n",
    "    crs = las.vlrs[2].raw_data\n",
    "    print(\"CRS Raw Data:\", crs)\n",
    "else:\n",
    "    print(\"VLR object does not have 'raw_data' attribute.\")"
   ]
  },
  {
   "cell_type": "code",
   "execution_count": null,
   "metadata": {
    "ExecuteTime": {
     "end_time": "2024-02-10T06:23:54.554637900Z",
     "start_time": "2024-02-10T06:23:54.554637900Z"
    }
   },
   "outputs": [],
   "source": [
    "# Data preprocessing \n",
    "\n",
    "#mask to filter points\n",
    "pts_mask = las.classification == 1\n",
    "\n",
    "\n",
    "#coordinates\n",
    "xyz_t = np.vstack((las.x[pts_mask],las.y[pts_mask],las.z[pts_mask]))\n",
    "\n",
    "#transformation and visualization\n",
    "pcd_o3d = o3d.geometry.PointCloud()\n",
    "pcd_o3d.points =o3d.utility.Vector3dVector(xyz_t.transpose())\n",
    "\n",
    "#translation of point cloud \n",
    "pcd_center = pcd_o3d.get_center()\n",
    "pcd_o3d.translate(pcd_center)\n",
    "\n",
    "#visualization of result\n",
    "o3d.visualization.draw_geometries([pcd_o3d])\n",
    "\n"
   ]
  },
  {
   "cell_type": "code",
   "execution_count": null,
   "metadata": {
    "ExecuteTime": {
     "end_time": "2024-02-10T06:23:54.561801600Z",
     "start_time": "2024-02-10T06:23:54.561801600Z"
    }
   },
   "outputs": [],
   "source": [
    "# Data preprocessing  for ground points\n",
    "\n",
    "#mask to filter points\n",
    "pts_mask = las.classification == 2\n",
    "\n",
    "\n",
    "#coordinates\n",
    "xyz_t = np.vstack((las.x[pts_mask],las.y[pts_mask],las.z[pts_mask]))\n",
    "\n",
    "#transformation and visualization\n",
    "pcd_o3d = o3d.geometry.PointCloud()\n",
    "pcd_o3d.points =o3d.utility.Vector3dVector(xyz_t.transpose())\n",
    "\n",
    "#translation of point cloud \n",
    "pcd_center = pcd_o3d.get_center()\n",
    "pcd_o3d.translate(pcd_center)\n",
    "\n",
    "#visualization of result\n",
    "o3d.visualization.draw_geometries([pcd_o3d])\n",
    "\n"
   ]
  },
  {
   "cell_type": "code",
   "execution_count": null,
   "metadata": {
    "ExecuteTime": {
     "start_time": "2024-02-10T06:23:54.576320200Z"
    }
   },
   "outputs": [],
   "source": [
    "# Mask to filter building points (classification 1)\n",
    "building_mask = las.classification == 1\n",
    "\n",
    "# Mask to filter ground points (classification 2)\n",
    "ground_mask = las.classification == 2\n",
    "\n",
    "# Coordinates of building points\n",
    "xyz_building = np.vstack((las.x[building_mask], las.y[building_mask], las.z[building_mask]))\n",
    "\n",
    "# Coordinates of ground points\n",
    "xyz_ground = np.vstack((las.x[ground_mask], las.y[ground_mask], las.z[ground_mask]))\n",
    "\n",
    "# Downsample the data\n",
    "building_downsampled = xyz_building[:, ::10]  # Adjust the step size as needed\n",
    "ground_downsampled = xyz_ground[:, ::10]\n",
    "\n",
    "# Calculate distances for the downsampled data\n",
    "distances = np.linalg.norm(building_downsampled[:, np.newaxis, :] - ground_downsampled[:, :, np.newaxis], axis=0)\n",
    "\n",
    "# Filter out invalid distances (e.g., distances between the same points)\n",
    "valid_distances = distances[~np.isnan(distances)]\n",
    "\n",
    "# Calculate the average distance\n",
    "avg_distance = np.mean(valid_distances)\n",
    "\n",
    "print(f\"Average distance between ground and building points: {avg_distance} units\")"
   ]
  },
  {
   "cell_type": "code",
   "execution_count": null,
   "metadata": {
    "ExecuteTime": {
     "end_time": "2024-02-10T06:23:54.623725400Z",
     "start_time": "2024-02-10T06:23:54.578627200Z"
    }
   },
   "outputs": [],
   "source": [
    "# Unsupervised clustering using DBSCAN\n",
    "\n",
    "epsilon = 2  # Set the epsilon parameter for DBSCAN\n",
    "min_cluster_points = 100  # Set the minimum number of points in a cluster\n",
    "\n",
    "# Perform DBSCAN clustering on the point cloud\n",
    "labels = np.array(pcd_o3d.cluster_dbscan(eps=epsilon, min_points=min_cluster_points))\n",
    "max_label = labels.max()  # Get the maximum label assigned by DBSCAN\n",
    "print(f\"Point cloud has {max_label+1} clusters\")\n",
    "\n",
    "# Color pattern to generate visualization\n",
    "colors = plt.get_cmap(\"tab20\")(labels / (max_label if max_label > 0 else 1))  # Generate colors based on cluster labels\n",
    "colors[labels < 0] = 0  # Set colors for noise points to black\n",
    "pcd_o3d.colors = o3d.utility.Vector3dVector(colors[:, :3])  # Set colors to the point cloud\n",
    "\n",
    "# Point Cloud Visualization\n",
    "o3d.visualization.draw_geometries([pcd_o3d])  # Visualize the clustered point cloud\n"
   ]
  },
  {
   "cell_type": "code",
   "execution_count": null,
   "metadata": {
    "ExecuteTime": {
     "start_time": "2024-02-10T06:23:54.578627200Z"
    }
   },
   "outputs": [],
   "source": [
    "#selection of a particular segment\n",
    "sel = 1\n",
    "segment = pcd_o3d.select_by_index(np.where(labels == sel)[0])\n",
    "o3d.visualization.draw_geometries([segment])"
   ]
  },
  {
   "cell_type": "code",
   "execution_count": null,
   "metadata": {
    "ExecuteTime": {
     "start_time": "2024-02-10T06:23:54.578627200Z"
    }
   },
   "outputs": [],
   "source": [
    "# Extracting the outline of the above selection\n",
    "\n",
    "points_2D = np.asarray(segment.points)[:, 0:2]  # Extracting only x and y coordinates from the segment points\n",
    "\n",
    "# Alpha shape \n",
    "\n",
    "# Generate an alpha shape from the 2D points with a specified alpha value\n",
    "building_vector = ash.alphashape(points_2D, alpha=0.5)"
   ]
  },
  {
   "cell_type": "code",
   "execution_count": null,
   "metadata": {
    "ExecuteTime": {
     "start_time": "2024-02-10T06:23:54.591983700Z"
    }
   },
   "outputs": [],
   "source": [
    "#storing in geodataframe\n",
    "building_gdf = gpd.GeoDataFrame(geometry=[building_vector],crs='EPSG:26910')\n",
    "building_gdf.head(1)"
   ]
  },
  {
   "cell_type": "code",
   "execution_count": null,
   "metadata": {
    "ExecuteTime": {
     "start_time": "2024-02-10T06:23:54.591983700Z"
    }
   },
   "outputs": [],
   "source": [
    "\n",
    "points_1D = np.asarray(segment.points)[:, 2]  # Extracting only the z coordinates from the segment points\n",
    "\n",
    "# Print the local minima and maxima along the z-axis\n",
    "print(\"The local minima along the z-axis:\", np.min(points_1D))\n",
    "print(\"The local maxima along the z-axis:\", np.max(points_1D))\n",
    "\n",
    "# Create a histogram of the z-axis coordinates\n",
    "plt.hist(points_1D, bins='auto')  # 'auto' option automatically determines the number of bins\n",
    "plt.title(\"Histogram of above\")  # Set the title of the histogram\n",
    "plt.show()  # Display the histogram\n"
   ]
  },
  {
   "cell_type": "code",
   "execution_count": null,
   "metadata": {
    "ExecuteTime": {
     "start_time": "2024-02-10T06:23:54.591983700Z"
    }
   },
   "outputs": [],
   "source": [
    "# 2D to 3D Library\n",
    "\n",
    "# base layer\n",
    "vertices = list(building_vector.exterior.coords)\n",
    "\n",
    "# construct in open3d\n",
    "Polygon_2d = o3d.geometry.LineSet()\n",
    "Polygon_2d.points = o3d.utility.Vector3dVector([point + (0,) for point in vertices])\n",
    "Polygon_2d.lines = o3d.utility.Vector2iVector([(i, (i + 1) % len(vertices)) for i in range(len(vertices))])\n",
    "\n",
    "# show\n",
    "o3d.visualization.draw_geometries([Polygon_2d])\n"
   ]
  },
  {
   "cell_type": "code",
   "execution_count": null,
   "metadata": {
    "ExecuteTime": {
     "start_time": "2024-02-10T06:23:54.591983700Z"
    }
   },
   "outputs": [],
   "source": [
    "#genrate some element for the extruded\n",
    "\n",
    "extrusion = o3d.geometry.LineSet()\n",
    "\n",
    "Polygon_2d = o3d.geometry.LineSet()\n",
    "extrusion.points = o3d.utility.Vector3dVector([point + (0,) for point in vertices])\n",
    "extrusion.lines = o3d.utility.Vector2iVector([(i, (i + 1) % len(vertices)) for i in range(len(vertices))])\n",
    "o3d.visualization.draw_geometries([Polygon_2d,extrusion])\n",
    "\n",
    "#plot the vertices\n",
    "\n",
    "temp = Polygon_2d + extrusion\n",
    "temp.points\n",
    "temp_o3d = o3d.geometry.PointCloud()\n",
    "temp_o3d.points = temp.points\n",
    "o3d.visualization.draw_geometries([temp_o3d])\n"
   ]
  },
  {
   "cell_type": "code",
   "execution_count": null,
   "metadata": {
    "ExecuteTime": {
     "start_time": "2024-02-10T06:23:54.603662Z"
    }
   },
   "outputs": [],
   "source": [
    "import open3d as o3d\n",
    "import numpy as np\n",
    "\n",
    "# Create a simple mesh (replace this with your actual mesh creation logic)\n",
    "vertices = np.array([[0, 0, 0], [1, 0, 0], [0, 1, 0]])\n",
    "triangles = np.array([[0, 1, 2]])\n",
    "mesh = o3d.geometry.TriangleMesh()\n",
    "mesh.vertices = o3d.utility.Vector3dVector(vertices)\n",
    "mesh.triangles = o3d.utility.Vector3iVector(triangles)\n",
    "\n",
    "# Translation vector\n",
    "pcd_center = [1, 2, 3]\n",
    "\n",
    "# Translate the mesh\n",
    "mesh.translate(pcd_center)\n",
    "\n",
    "# Now, you can proceed with writing the mesh to a file using write_triangle_mesh\n",
    "output_mesh_path = r'D:\\Resume Project\\Lidar_cloud_data\\house_sample.ply'\n",
    "o3d.io.write_triangle_mesh(output_mesh_path, mesh, write_ascii=False, compressed=True, print_progress=False)\n"
   ]
  }
 ],
 "metadata": {
  "kernelspec": {
   "display_name": "Python 3",
   "language": "python",
   "name": "python3"
  },
  "language_info": {
   "codemirror_mode": {
    "name": "ipython",
    "version": 3
   },
   "file_extension": ".py",
   "mimetype": "text/x-python",
   "name": "python",
   "nbconvert_exporter": "python",
   "pygments_lexer": "ipython3",
   "version": "3.10.9"
  }
 },
 "nbformat": 4,
 "nbformat_minor": 2
}
